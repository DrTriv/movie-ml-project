{
 "cells": [
  {
   "cell_type": "markdown",
   "id": "5a8c1821-6ede-472d-b352-9b7e17ffd057",
   "metadata": {},
   "source": [
    "# Predicting movie opening weekends"
   ]
  },
  {
   "cell_type": "markdown",
   "id": "19cd2685",
   "metadata": {},
   "source": [
    "## Scrape website tables for data"
   ]
  },
  {
   "cell_type": "markdown",
   "id": "a2f35880",
   "metadata": {},
   "source": [
    "### We will use the data available at www.boxofficemojo.com "
   ]
  },
  {
   "cell_type": "markdown",
   "id": "e6c1fb72",
   "metadata": {},
   "source": [
    "Import the relevant packages"
   ]
  },
  {
   "cell_type": "code",
   "execution_count": 127,
   "id": "1ddb60ca",
   "metadata": {},
   "outputs": [],
   "source": [
    "from bs4 import BeautifulSoup\n",
    "import requests\n",
    "import pandas as pd\n",
    "import matplotlib.pyplot as plt\n",
    "import numpy as np"
   ]
  },
  {
   "cell_type": "markdown",
   "id": "cc7f501d",
   "metadata": {},
   "source": [
    "Check the website allows us to access data"
   ]
  },
  {
   "cell_type": "code",
   "execution_count": 128,
   "id": "3e99d847",
   "metadata": {},
   "outputs": [],
   "source": [
    "url = 'https://www.boxofficemojo.com/chart/top_opening_weekend/'\n",
    "pages = requests.get(url)"
   ]
  },
  {
   "cell_type": "markdown",
   "id": "a748674e",
   "metadata": {},
   "source": [
    "Parse the html code to make it more readable to python"
   ]
  },
  {
   "cell_type": "code",
   "execution_count": 129,
   "id": "9c2cddc7",
   "metadata": {},
   "outputs": [],
   "source": [
    "soup = BeautifulSoup(pages.text, 'lxml')"
   ]
  },
  {
   "cell_type": "markdown",
   "id": "38817b5f",
   "metadata": {},
   "source": [
    "Save the main table on the page and save the column headers"
   ]
  },
  {
   "cell_type": "code",
   "execution_count": 130,
   "id": "a60b5e1e",
   "metadata": {
    "scrolled": true
   },
   "outputs": [],
   "source": [
    "table1 = soup.table"
   ]
  },
  {
   "cell_type": "code",
   "execution_count": 131,
   "id": "a39fa251",
   "metadata": {},
   "outputs": [],
   "source": [
    "headers = []\n",
    "for i in table1.find_all('th'):\n",
    " title = i.text\n",
    " headers.append(title.strip())"
   ]
  },
  {
   "cell_type": "markdown",
   "id": "7cbc931d",
   "metadata": {},
   "source": [
    "Create a dataframe to store tabular data"
   ]
  },
  {
   "cell_type": "code",
   "execution_count": 132,
   "id": "eb626468",
   "metadata": {},
   "outputs": [],
   "source": [
    "df = pd.DataFrame(columns = headers)"
   ]
  },
  {
   "cell_type": "markdown",
   "id": "ff838438",
   "metadata": {},
   "source": [
    "Create a for loop to capture data from all the rows"
   ]
  },
  {
   "cell_type": "code",
   "execution_count": 133,
   "id": "4a4fd4d2",
   "metadata": {},
   "outputs": [],
   "source": [
    "for j in table1.find_all('tr')[1:]:\n",
    " row_data = j.find_all('td')\n",
    " row = [i.text.strip() for i in row_data]\n",
    " length = len(df)\n",
    " df.loc[length] = row"
   ]
  },
  {
   "cell_type": "code",
   "execution_count": 134,
   "id": "ba7385c7",
   "metadata": {},
   "outputs": [
    {
     "data": {
      "text/html": [
       "<div>\n",
       "<style scoped>\n",
       "    .dataframe tbody tr th:only-of-type {\n",
       "        vertical-align: middle;\n",
       "    }\n",
       "\n",
       "    .dataframe tbody tr th {\n",
       "        vertical-align: top;\n",
       "    }\n",
       "\n",
       "    .dataframe thead th {\n",
       "        text-align: right;\n",
       "    }\n",
       "</style>\n",
       "<table border=\"1\" class=\"dataframe\">\n",
       "  <thead>\n",
       "    <tr style=\"text-align: right;\">\n",
       "      <th></th>\n",
       "      <th>Rank</th>\n",
       "      <th>Release</th>\n",
       "      <th>Opening</th>\n",
       "      <th>Total Gross</th>\n",
       "      <th>% of Total</th>\n",
       "      <th>Theaters</th>\n",
       "      <th>Average</th>\n",
       "      <th>Date</th>\n",
       "      <th>Distributor</th>\n",
       "    </tr>\n",
       "  </thead>\n",
       "  <tbody>\n",
       "    <tr>\n",
       "      <th>0</th>\n",
       "      <td>1</td>\n",
       "      <td>Avengers: Endgame</td>\n",
       "      <td>$357,115,007</td>\n",
       "      <td>$858,373,000</td>\n",
       "      <td>41.6%</td>\n",
       "      <td>4,662</td>\n",
       "      <td>$76,601</td>\n",
       "      <td>Apr 26, 2019</td>\n",
       "      <td>Walt Disney Studios Motion Pictures</td>\n",
       "    </tr>\n",
       "    <tr>\n",
       "      <th>1</th>\n",
       "      <td>2</td>\n",
       "      <td>Spider-Man: No Way Home</td>\n",
       "      <td>$260,138,569</td>\n",
       "      <td>$735,889,808</td>\n",
       "      <td>35.4%</td>\n",
       "      <td>4,336</td>\n",
       "      <td>$59,995</td>\n",
       "      <td>Dec 17, 2021</td>\n",
       "      <td>Sony Pictures Entertainment (SPE)</td>\n",
       "    </tr>\n",
       "    <tr>\n",
       "      <th>2</th>\n",
       "      <td>3</td>\n",
       "      <td>Avengers: Infinity War</td>\n",
       "      <td>$257,698,183</td>\n",
       "      <td>$678,815,482</td>\n",
       "      <td>38%</td>\n",
       "      <td>4,474</td>\n",
       "      <td>$57,599</td>\n",
       "      <td>Apr 27, 2018</td>\n",
       "      <td>Walt Disney Studios Motion Pictures</td>\n",
       "    </tr>\n",
       "    <tr>\n",
       "      <th>3</th>\n",
       "      <td>4</td>\n",
       "      <td>Star Wars: Episode VII - The Force Awakens</td>\n",
       "      <td>$247,966,675</td>\n",
       "      <td>$936,662,225</td>\n",
       "      <td>26.5%</td>\n",
       "      <td>4,134</td>\n",
       "      <td>$59,982</td>\n",
       "      <td>Dec 18, 2015</td>\n",
       "      <td>Walt Disney Studios Motion Pictures</td>\n",
       "    </tr>\n",
       "    <tr>\n",
       "      <th>4</th>\n",
       "      <td>5</td>\n",
       "      <td>Star Wars: Episode VIII - The Last Jedi</td>\n",
       "      <td>$220,009,584</td>\n",
       "      <td>$620,181,382</td>\n",
       "      <td>35.5%</td>\n",
       "      <td>4,232</td>\n",
       "      <td>$51,987</td>\n",
       "      <td>Dec 15, 2017</td>\n",
       "      <td>Walt Disney Studios Motion Pictures</td>\n",
       "    </tr>\n",
       "    <tr>\n",
       "      <th>...</th>\n",
       "      <td>...</td>\n",
       "      <td>...</td>\n",
       "      <td>...</td>\n",
       "      <td>...</td>\n",
       "      <td>...</td>\n",
       "      <td>...</td>\n",
       "      <td>...</td>\n",
       "      <td>...</td>\n",
       "      <td>...</td>\n",
       "    </tr>\n",
       "    <tr>\n",
       "      <th>195</th>\n",
       "      <td>196</td>\n",
       "      <td>War for the Planet of the Apes</td>\n",
       "      <td>$56,262,929</td>\n",
       "      <td>$146,880,162</td>\n",
       "      <td>38.3%</td>\n",
       "      <td>4,022</td>\n",
       "      <td>$13,988</td>\n",
       "      <td>Jul 14, 2017</td>\n",
       "      <td>Twentieth Century Fox</td>\n",
       "    </tr>\n",
       "    <tr>\n",
       "      <th>196</th>\n",
       "      <td>197</td>\n",
       "      <td>Valentine's Day</td>\n",
       "      <td>$56,260,707</td>\n",
       "      <td>$110,485,654</td>\n",
       "      <td>50.9%</td>\n",
       "      <td>3,665</td>\n",
       "      <td>$15,350</td>\n",
       "      <td>Feb 12, 2010</td>\n",
       "      <td>Warner Bros.</td>\n",
       "    </tr>\n",
       "    <tr>\n",
       "      <th>197</th>\n",
       "      <td>198</td>\n",
       "      <td>Ralph Breaks the Internet</td>\n",
       "      <td>$56,237,634</td>\n",
       "      <td>$201,091,711</td>\n",
       "      <td>28%</td>\n",
       "      <td>4,017</td>\n",
       "      <td>$13,999</td>\n",
       "      <td>Nov 21, 2018</td>\n",
       "      <td>Walt Disney Studios Motion Pictures</td>\n",
       "    </tr>\n",
       "    <tr>\n",
       "      <th>198</th>\n",
       "      <td>199</td>\n",
       "      <td>Snow White and the Huntsman</td>\n",
       "      <td>$56,217,700</td>\n",
       "      <td>$155,332,381</td>\n",
       "      <td>36.2%</td>\n",
       "      <td>3,773</td>\n",
       "      <td>$14,900</td>\n",
       "      <td>Jun 1, 2012</td>\n",
       "      <td>Universal Pictures</td>\n",
       "    </tr>\n",
       "    <tr>\n",
       "      <th>199</th>\n",
       "      <td>200</td>\n",
       "      <td>Big Hero 6</td>\n",
       "      <td>$56,215,889</td>\n",
       "      <td>$222,527,828</td>\n",
       "      <td>25.3%</td>\n",
       "      <td>3,761</td>\n",
       "      <td>$14,947</td>\n",
       "      <td>Nov 7, 2014</td>\n",
       "      <td>Walt Disney Studios Motion Pictures</td>\n",
       "    </tr>\n",
       "  </tbody>\n",
       "</table>\n",
       "<p>200 rows × 9 columns</p>\n",
       "</div>"
      ],
      "text/plain": [
       "    Rank                                     Release       Opening  \\\n",
       "0      1                           Avengers: Endgame  $357,115,007   \n",
       "1      2                     Spider-Man: No Way Home  $260,138,569   \n",
       "2      3                      Avengers: Infinity War  $257,698,183   \n",
       "3      4  Star Wars: Episode VII - The Force Awakens  $247,966,675   \n",
       "4      5     Star Wars: Episode VIII - The Last Jedi  $220,009,584   \n",
       "..   ...                                         ...           ...   \n",
       "195  196              War for the Planet of the Apes   $56,262,929   \n",
       "196  197                             Valentine's Day   $56,260,707   \n",
       "197  198                   Ralph Breaks the Internet   $56,237,634   \n",
       "198  199                 Snow White and the Huntsman   $56,217,700   \n",
       "199  200                                  Big Hero 6   $56,215,889   \n",
       "\n",
       "      Total Gross % of Total Theaters  Average          Date  \\\n",
       "0    $858,373,000      41.6%    4,662  $76,601  Apr 26, 2019   \n",
       "1    $735,889,808      35.4%    4,336  $59,995  Dec 17, 2021   \n",
       "2    $678,815,482        38%    4,474  $57,599  Apr 27, 2018   \n",
       "3    $936,662,225      26.5%    4,134  $59,982  Dec 18, 2015   \n",
       "4    $620,181,382      35.5%    4,232  $51,987  Dec 15, 2017   \n",
       "..            ...        ...      ...      ...           ...   \n",
       "195  $146,880,162      38.3%    4,022  $13,988  Jul 14, 2017   \n",
       "196  $110,485,654      50.9%    3,665  $15,350  Feb 12, 2010   \n",
       "197  $201,091,711        28%    4,017  $13,999  Nov 21, 2018   \n",
       "198  $155,332,381      36.2%    3,773  $14,900   Jun 1, 2012   \n",
       "199  $222,527,828      25.3%    3,761  $14,947   Nov 7, 2014   \n",
       "\n",
       "                             Distributor  \n",
       "0    Walt Disney Studios Motion Pictures  \n",
       "1      Sony Pictures Entertainment (SPE)  \n",
       "2    Walt Disney Studios Motion Pictures  \n",
       "3    Walt Disney Studios Motion Pictures  \n",
       "4    Walt Disney Studios Motion Pictures  \n",
       "..                                   ...  \n",
       "195                Twentieth Century Fox  \n",
       "196                         Warner Bros.  \n",
       "197  Walt Disney Studios Motion Pictures  \n",
       "198                   Universal Pictures  \n",
       "199  Walt Disney Studios Motion Pictures  \n",
       "\n",
       "[200 rows x 9 columns]"
      ]
     },
     "execution_count": 134,
     "metadata": {},
     "output_type": "execute_result"
    }
   ],
   "source": [
    "df"
   ]
  },
  {
   "cell_type": "markdown",
   "id": "28fab51b",
   "metadata": {},
   "source": [
    "### Add data from all other pages"
   ]
  },
  {
   "cell_type": "markdown",
   "id": "6a3baeab",
   "metadata": {},
   "source": [
    "If we look at the BoxOfficeMojo website, there are 1000 films in total. We only have 200 so far in our dataframe. Inspecting the website urls indicates that each page has data for 200 films and the url itself incrementally increases by 'https://www.boxofficemojo.com/chart/top_opening_weekend/?offset=200n', where n iterates from 1 to 4."
   ]
  },
  {
   "cell_type": "code",
   "execution_count": 135,
   "id": "baa9f7f7",
   "metadata": {},
   "outputs": [],
   "source": [
    "for n in range(1,5):\n",
    "    url = 'https://www.boxofficemojo.com/chart/top_opening_weekend/?offset={}'.format(200*n)\n",
    "    pages = requests.get(url)\n",
    "    soup = BeautifulSoup(pages.text, 'lxml')\n",
    "    table1 = soup.table\n",
    "    for j in table1.find_all('tr')[1:]:\n",
    "        row_data = j.find_all('td')\n",
    "        row = [i.text.strip() for i in row_data]\n",
    "        length = len(df)\n",
    "        df.loc[length] = row"
   ]
  },
  {
   "cell_type": "markdown",
   "id": "ccd4c781",
   "metadata": {},
   "source": [
    "## Visualise the data"
   ]
  },
  {
   "cell_type": "markdown",
   "id": "69553425",
   "metadata": {},
   "source": [
    "Let's start by visualising some of the data using plots. Initially, we change the type of certain columns from strings to ints or floats. Convert price column from string to int, removing commas and dollars."
   ]
  },
  {
   "cell_type": "code",
   "execution_count": 136,
   "id": "3f8b1d53",
   "metadata": {},
   "outputs": [
    {
     "data": {
      "text/html": [
       "<div>\n",
       "<style scoped>\n",
       "    .dataframe tbody tr th:only-of-type {\n",
       "        vertical-align: middle;\n",
       "    }\n",
       "\n",
       "    .dataframe tbody tr th {\n",
       "        vertical-align: top;\n",
       "    }\n",
       "\n",
       "    .dataframe thead th {\n",
       "        text-align: right;\n",
       "    }\n",
       "</style>\n",
       "<table border=\"1\" class=\"dataframe\">\n",
       "  <thead>\n",
       "    <tr style=\"text-align: right;\">\n",
       "      <th></th>\n",
       "      <th>Rank</th>\n",
       "      <th>Release</th>\n",
       "      <th>Opening</th>\n",
       "      <th>Total Gross</th>\n",
       "      <th>% of Total</th>\n",
       "      <th>Theaters</th>\n",
       "      <th>Average</th>\n",
       "      <th>Date</th>\n",
       "      <th>Distributor</th>\n",
       "    </tr>\n",
       "  </thead>\n",
       "  <tbody>\n",
       "    <tr>\n",
       "      <th>0</th>\n",
       "      <td>1</td>\n",
       "      <td>Avengers: Endgame</td>\n",
       "      <td>357115007</td>\n",
       "      <td>858373000</td>\n",
       "      <td>41.6</td>\n",
       "      <td>4,662</td>\n",
       "      <td>76601</td>\n",
       "      <td>2019-04-26</td>\n",
       "      <td>Walt Disney Studios Motion Pictures</td>\n",
       "    </tr>\n",
       "    <tr>\n",
       "      <th>1</th>\n",
       "      <td>2</td>\n",
       "      <td>Spider-Man: No Way Home</td>\n",
       "      <td>260138569</td>\n",
       "      <td>735889808</td>\n",
       "      <td>35.4</td>\n",
       "      <td>4,336</td>\n",
       "      <td>59995</td>\n",
       "      <td>2021-12-17</td>\n",
       "      <td>Sony Pictures Entertainment (SPE)</td>\n",
       "    </tr>\n",
       "    <tr>\n",
       "      <th>2</th>\n",
       "      <td>3</td>\n",
       "      <td>Avengers: Infinity War</td>\n",
       "      <td>257698183</td>\n",
       "      <td>678815482</td>\n",
       "      <td>38.0</td>\n",
       "      <td>4,474</td>\n",
       "      <td>57599</td>\n",
       "      <td>2018-04-27</td>\n",
       "      <td>Walt Disney Studios Motion Pictures</td>\n",
       "    </tr>\n",
       "    <tr>\n",
       "      <th>3</th>\n",
       "      <td>4</td>\n",
       "      <td>Star Wars: Episode VII - The Force Awakens</td>\n",
       "      <td>247966675</td>\n",
       "      <td>936662225</td>\n",
       "      <td>26.5</td>\n",
       "      <td>4,134</td>\n",
       "      <td>59982</td>\n",
       "      <td>2015-12-18</td>\n",
       "      <td>Walt Disney Studios Motion Pictures</td>\n",
       "    </tr>\n",
       "    <tr>\n",
       "      <th>4</th>\n",
       "      <td>5</td>\n",
       "      <td>Star Wars: Episode VIII - The Last Jedi</td>\n",
       "      <td>220009584</td>\n",
       "      <td>620181382</td>\n",
       "      <td>35.5</td>\n",
       "      <td>4,232</td>\n",
       "      <td>51987</td>\n",
       "      <td>2017-12-15</td>\n",
       "      <td>Walt Disney Studios Motion Pictures</td>\n",
       "    </tr>\n",
       "    <tr>\n",
       "      <th>...</th>\n",
       "      <td>...</td>\n",
       "      <td>...</td>\n",
       "      <td>...</td>\n",
       "      <td>...</td>\n",
       "      <td>...</td>\n",
       "      <td>...</td>\n",
       "      <td>...</td>\n",
       "      <td>...</td>\n",
       "      <td>...</td>\n",
       "    </tr>\n",
       "    <tr>\n",
       "      <th>995</th>\n",
       "      <td>996</td>\n",
       "      <td>We Were Soldiers</td>\n",
       "      <td>20212543</td>\n",
       "      <td>78122718</td>\n",
       "      <td>25.9</td>\n",
       "      <td>3,143</td>\n",
       "      <td>6430</td>\n",
       "      <td>2002-03-01</td>\n",
       "      <td>Paramount Pictures</td>\n",
       "    </tr>\n",
       "    <tr>\n",
       "      <th>996</th>\n",
       "      <td>997</td>\n",
       "      <td>Eight Below</td>\n",
       "      <td>20188176</td>\n",
       "      <td>81612565</td>\n",
       "      <td>24.7</td>\n",
       "      <td>3,066</td>\n",
       "      <td>6584</td>\n",
       "      <td>2006-02-17</td>\n",
       "      <td>Walt Disney Studios Motion Pictures</td>\n",
       "    </tr>\n",
       "    <tr>\n",
       "      <th>997</th>\n",
       "      <td>998</td>\n",
       "      <td>Rambo: First Blood Part II</td>\n",
       "      <td>20176217</td>\n",
       "      <td>150415432</td>\n",
       "      <td>13.4</td>\n",
       "      <td>2,074</td>\n",
       "      <td>9728</td>\n",
       "      <td>1985-05-22</td>\n",
       "      <td>TriStar Pictures</td>\n",
       "    </tr>\n",
       "    <tr>\n",
       "      <th>998</th>\n",
       "      <td>999</td>\n",
       "      <td>What Happens in Vegas</td>\n",
       "      <td>20172474</td>\n",
       "      <td>80277646</td>\n",
       "      <td>25.1</td>\n",
       "      <td>3,215</td>\n",
       "      <td>6274</td>\n",
       "      <td>2008-05-09</td>\n",
       "      <td>Twentieth Century Fox</td>\n",
       "    </tr>\n",
       "    <tr>\n",
       "      <th>999</th>\n",
       "      <td>1,000</td>\n",
       "      <td>Kicking &amp; Screaming</td>\n",
       "      <td>20159925</td>\n",
       "      <td>52842724</td>\n",
       "      <td>38.2</td>\n",
       "      <td>3,455</td>\n",
       "      <td>5835</td>\n",
       "      <td>2005-05-13</td>\n",
       "      <td>Universal Pictures</td>\n",
       "    </tr>\n",
       "  </tbody>\n",
       "</table>\n",
       "<p>1000 rows × 9 columns</p>\n",
       "</div>"
      ],
      "text/plain": [
       "      Rank                                     Release    Opening  \\\n",
       "0        1                           Avengers: Endgame  357115007   \n",
       "1        2                     Spider-Man: No Way Home  260138569   \n",
       "2        3                      Avengers: Infinity War  257698183   \n",
       "3        4  Star Wars: Episode VII - The Force Awakens  247966675   \n",
       "4        5     Star Wars: Episode VIII - The Last Jedi  220009584   \n",
       "..     ...                                         ...        ...   \n",
       "995    996                            We Were Soldiers   20212543   \n",
       "996    997                                 Eight Below   20188176   \n",
       "997    998                  Rambo: First Blood Part II   20176217   \n",
       "998    999                       What Happens in Vegas   20172474   \n",
       "999  1,000                         Kicking & Screaming   20159925   \n",
       "\n",
       "     Total Gross  % of Total Theaters  Average       Date  \\\n",
       "0      858373000        41.6    4,662    76601 2019-04-26   \n",
       "1      735889808        35.4    4,336    59995 2021-12-17   \n",
       "2      678815482        38.0    4,474    57599 2018-04-27   \n",
       "3      936662225        26.5    4,134    59982 2015-12-18   \n",
       "4      620181382        35.5    4,232    51987 2017-12-15   \n",
       "..           ...         ...      ...      ...        ...   \n",
       "995     78122718        25.9    3,143     6430 2002-03-01   \n",
       "996     81612565        24.7    3,066     6584 2006-02-17   \n",
       "997    150415432        13.4    2,074     9728 1985-05-22   \n",
       "998     80277646        25.1    3,215     6274 2008-05-09   \n",
       "999     52842724        38.2    3,455     5835 2005-05-13   \n",
       "\n",
       "                             Distributor  \n",
       "0    Walt Disney Studios Motion Pictures  \n",
       "1      Sony Pictures Entertainment (SPE)  \n",
       "2    Walt Disney Studios Motion Pictures  \n",
       "3    Walt Disney Studios Motion Pictures  \n",
       "4    Walt Disney Studios Motion Pictures  \n",
       "..                                   ...  \n",
       "995                   Paramount Pictures  \n",
       "996  Walt Disney Studios Motion Pictures  \n",
       "997                     TriStar Pictures  \n",
       "998                Twentieth Century Fox  \n",
       "999                   Universal Pictures  \n",
       "\n",
       "[1000 rows x 9 columns]"
      ]
     },
     "execution_count": 136,
     "metadata": {},
     "output_type": "execute_result"
    }
   ],
   "source": [
    "cols = ['Opening','Total Gross','Average']\n",
    "df[cols] = df[cols].replace({'\\$': '', ',': ''}, regex=True)\n",
    "df[cols] = df[cols].astype(int)\n",
    "df['% of Total'] = df['% of Total'].str.rstrip('%').astype(float)\n",
    "df['Date'] = pd.to_datetime(df['Date'])\n",
    "df"
   ]
  },
  {
   "cell_type": "code",
   "execution_count": 137,
   "id": "61c83d33",
   "metadata": {},
   "outputs": [
    {
     "data": {
      "text/plain": [
       "<AxesSubplot:ylabel='Frequency'>"
      ]
     },
     "execution_count": 137,
     "metadata": {},
     "output_type": "execute_result"
    },
    {
     "data": {
      "image/png": "[encoded data removed]",
      "text/plain": [
       "<Figure size 432x288 with 1 Axes>"
      ]
     },
     "metadata": {
      "needs_background": "light"
     },
     "output_type": "display_data"
    }
   ],
   "source": [
    "df['Opening'].plot.hist()"
   ]
  },
  {
   "cell_type": "markdown",
   "id": "bcb74338",
   "metadata": {},
   "source": [
    "From the above histogram, it is clear that most films make less than $50,000,000 during opening weekend."
   ]
  },
  {
   "cell_type": "code",
   "execution_count": 138,
   "id": "cc695a3e",
   "metadata": {},
   "outputs": [
    {
     "data": {
      "text/plain": [
       "<AxesSubplot:title={'center':'Movie opening by distributor'}, xlabel='Distributor', ylabel='Opening'>"
      ]
     },
     "execution_count": 138,
     "metadata": {},
     "output_type": "execute_result"
    },
    {
     "data": {
      "image/png": "[encoded data removed]",
      "text/plain": [
       "<Figure size 432x288 with 1 Axes>"
      ]
     },
     "metadata": {
      "needs_background": "light"
     },
     "output_type": "display_data"
    }
   ],
   "source": [
    "df.plot.scatter(x='Distributor', y='Opening', title='Movie opening by distributor', xticks=df.Distributor, rot=90)"
   ]
  },
  {
   "cell_type": "markdown",
   "id": "3953e596",
   "metadata": {},
   "source": [
    "The above plot shows the variation in opening weekend takings by distributor"
   ]
  },
  {
   "cell_type": "code",
   "execution_count": 139,
   "id": "d6131649",
   "metadata": {},
   "outputs": [
    {
     "data": {
      "text/plain": [
       "<AxesSubplot:title={'center':'Total takings by opening weekend'}, xlabel='Opening', ylabel='Total Gross'>"
      ]
     },
     "execution_count": 139,
     "metadata": {},
     "output_type": "execute_result"
    },
    {
     "data": {
      "image/png": "[encoded data removed]",
      "text/plain": [
       "<Figure size 432x288 with 1 Axes>"
      ]
     },
     "metadata": {
      "needs_background": "light"
     },
     "output_type": "display_data"
    }
   ],
   "source": [
    "df.plot.scatter(x='Opening', y='Total Gross', title='Total takings by opening weekend')"
   ]
  },
  {
   "cell_type": "markdown",
   "id": "f6331cfe",
   "metadata": {},
   "source": [
    "Out of interest, check the relationship the opening weekend takings has on the total gross figure."
   ]
  },
  {
   "cell_type": "code",
   "execution_count": 140,
   "id": "47c6d9e2",
   "metadata": {},
   "outputs": [
    {
     "data": {
      "text/plain": [
       "<AxesSubplot:title={'center':'Opening weekend by year'}, xlabel='Year', ylabel='Opening'>"
      ]
     },
     "execution_count": 140,
     "metadata": {},
     "output_type": "execute_result"
    },
    {
     "data": {
      "image/png": "[encoded data removed]",
      "text/plain": [
       "<Figure size 432x288 with 1 Axes>"
      ]
     },
     "metadata": {
      "needs_background": "light"
     },
     "output_type": "display_data"
    }
   ],
   "source": [
    "df['Year'] = df['Date'].dt.year\n",
    "df.plot.scatter(x='Year', y='Opening', title='Opening weekend by year')"
   ]
  },
  {
   "cell_type": "markdown",
   "id": "a65ada58",
   "metadata": {},
   "source": [
    "From this scatter plot it is evident that over the years, there has been a general trend upwards in opening weekend takings."
   ]
  },
  {
   "cell_type": "code",
   "execution_count": 141,
   "id": "054d43b5",
   "metadata": {},
   "outputs": [
    {
     "data": {
      "text/plain": [
       "<AxesSubplot:title={'center':'Opening weekend by date of release'}, xlabel='Month', ylabel='Opening'>"
      ]
     },
     "execution_count": 141,
     "metadata": {},
     "output_type": "execute_result"
    },
    {
     "data": {
      "image/png": "[encoded data removed]",
      "text/plain": [
       "<Figure size 432x288 with 1 Axes>"
      ]
     },
     "metadata": {
      "needs_background": "light"
     },
     "output_type": "display_data"
    }
   ],
   "source": [
    "df['Month'] = df['Date'].dt.month\n",
    "df.plot.scatter(x='Month', y='Opening', title='Opening weekend by date of release')"
   ]
  },
  {
   "cell_type": "markdown",
   "id": "3570ff7d",
   "metadata": {},
   "source": [
    "Based on the chart above, it appears as though opening weekend takings are highest in April and Dec (Easter and Xmas!)"
   ]
  },
  {
   "cell_type": "markdown",
   "id": "677dc473",
   "metadata": {},
   "source": [
    "## Forming a hypothesis"
   ]
  },
  {
   "cell_type": "markdown",
   "id": "590ba360",
   "metadata": {},
   "source": [
    "Based on the visualisations and initial data checks above, the hypothesis that I'd make is that the opening weekend takings depends on: \n",
    "\n",
    "* the month of release; \n",
    "* year of release; \n",
    "* and the distributor. \n",
    "\n",
    "We will build a ML model to predict the opening weekend takings based on these 'features.'"
   ]
  },
  {
   "cell_type": "markdown",
   "id": "34ea2d30",
   "metadata": {},
   "source": [
    "## Building a ML model"
   ]
  },
  {
   "cell_type": "markdown",
   "id": "66d101a8",
   "metadata": {},
   "source": [
    "### Define the X and y variables based on hypothesis"
   ]
  },
  {
   "cell_type": "code",
   "execution_count": 142,
   "id": "22211a53",
   "metadata": {},
   "outputs": [
    {
     "data": {
      "text/html": [
       "<div>\n",
       "<style scoped>\n",
       "    .dataframe tbody tr th:only-of-type {\n",
       "        vertical-align: middle;\n",
       "    }\n",
       "\n",
       "    .dataframe tbody tr th {\n",
       "        vertical-align: top;\n",
       "    }\n",
       "\n",
       "    .dataframe thead th {\n",
       "        text-align: right;\n",
       "    }\n",
       "</style>\n",
       "<table border=\"1\" class=\"dataframe\">\n",
       "  <thead>\n",
       "    <tr style=\"text-align: right;\">\n",
       "      <th></th>\n",
       "      <th>Year</th>\n",
       "      <th>Month</th>\n",
       "      <th>Distributor</th>\n",
       "    </tr>\n",
       "  </thead>\n",
       "  <tbody>\n",
       "    <tr>\n",
       "      <th>0</th>\n",
       "      <td>2019</td>\n",
       "      <td>4</td>\n",
       "      <td>Walt Disney Studios Motion Pictures</td>\n",
       "    </tr>\n",
       "    <tr>\n",
       "      <th>1</th>\n",
       "      <td>2021</td>\n",
       "      <td>12</td>\n",
       "      <td>Sony Pictures Entertainment (SPE)</td>\n",
       "    </tr>\n",
       "    <tr>\n",
       "      <th>2</th>\n",
       "      <td>2018</td>\n",
       "      <td>4</td>\n",
       "      <td>Walt Disney Studios Motion Pictures</td>\n",
       "    </tr>\n",
       "    <tr>\n",
       "      <th>3</th>\n",
       "      <td>2015</td>\n",
       "      <td>12</td>\n",
       "      <td>Walt Disney Studios Motion Pictures</td>\n",
       "    </tr>\n",
       "    <tr>\n",
       "      <th>4</th>\n",
       "      <td>2017</td>\n",
       "      <td>12</td>\n",
       "      <td>Walt Disney Studios Motion Pictures</td>\n",
       "    </tr>\n",
       "    <tr>\n",
       "      <th>...</th>\n",
       "      <td>...</td>\n",
       "      <td>...</td>\n",
       "      <td>...</td>\n",
       "    </tr>\n",
       "    <tr>\n",
       "      <th>995</th>\n",
       "      <td>2002</td>\n",
       "      <td>3</td>\n",
       "      <td>Paramount Pictures</td>\n",
       "    </tr>\n",
       "    <tr>\n",
       "      <th>996</th>\n",
       "      <td>2006</td>\n",
       "      <td>2</td>\n",
       "      <td>Walt Disney Studios Motion Pictures</td>\n",
       "    </tr>\n",
       "    <tr>\n",
       "      <th>997</th>\n",
       "      <td>1985</td>\n",
       "      <td>5</td>\n",
       "      <td>TriStar Pictures</td>\n",
       "    </tr>\n",
       "    <tr>\n",
       "      <th>998</th>\n",
       "      <td>2008</td>\n",
       "      <td>5</td>\n",
       "      <td>Twentieth Century Fox</td>\n",
       "    </tr>\n",
       "    <tr>\n",
       "      <th>999</th>\n",
       "      <td>2005</td>\n",
       "      <td>5</td>\n",
       "      <td>Universal Pictures</td>\n",
       "    </tr>\n",
       "  </tbody>\n",
       "</table>\n",
       "<p>1000 rows × 3 columns</p>\n",
       "</div>"
      ],
      "text/plain": [
       "     Year  Month                          Distributor\n",
       "0    2019      4  Walt Disney Studios Motion Pictures\n",
       "1    2021     12    Sony Pictures Entertainment (SPE)\n",
       "2    2018      4  Walt Disney Studios Motion Pictures\n",
       "3    2015     12  Walt Disney Studios Motion Pictures\n",
       "4    2017     12  Walt Disney Studios Motion Pictures\n",
       "..    ...    ...                                  ...\n",
       "995  2002      3                   Paramount Pictures\n",
       "996  2006      2  Walt Disney Studios Motion Pictures\n",
       "997  1985      5                     TriStar Pictures\n",
       "998  2008      5                Twentieth Century Fox\n",
       "999  2005      5                   Universal Pictures\n",
       "\n",
       "[1000 rows x 3 columns]"
      ]
     },
     "execution_count": 142,
     "metadata": {},
     "output_type": "execute_result"
    }
   ],
   "source": [
    "X = df[['Year','Month','Distributor']]\n",
    "X"
   ]
  },
  {
   "cell_type": "markdown",
   "id": "bde901cb",
   "metadata": {},
   "source": [
    "The distributors are currently expressed as strings, so let's convert them to numerical classes to make them easier to implement in the model."
   ]
  },
  {
   "cell_type": "code",
   "execution_count": 143,
   "id": "86f181d1",
   "metadata": {},
   "outputs": [
    {
     "data": {
      "text/html": [
       "<div>\n",
       "<style scoped>\n",
       "    .dataframe tbody tr th:only-of-type {\n",
       "        vertical-align: middle;\n",
       "    }\n",
       "\n",
       "    .dataframe tbody tr th {\n",
       "        vertical-align: top;\n",
       "    }\n",
       "\n",
       "    .dataframe thead th {\n",
       "        text-align: right;\n",
       "    }\n",
       "</style>\n",
       "<table border=\"1\" class=\"dataframe\">\n",
       "  <thead>\n",
       "    <tr style=\"text-align: right;\">\n",
       "      <th></th>\n",
       "      <th>Year</th>\n",
       "      <th>Month</th>\n",
       "      <th>Distributor</th>\n",
       "    </tr>\n",
       "  </thead>\n",
       "  <tbody>\n",
       "    <tr>\n",
       "      <th>0</th>\n",
       "      <td>2019</td>\n",
       "      <td>4</td>\n",
       "      <td>32</td>\n",
       "    </tr>\n",
       "    <tr>\n",
       "      <th>1</th>\n",
       "      <td>2021</td>\n",
       "      <td>12</td>\n",
       "      <td>24</td>\n",
       "    </tr>\n",
       "    <tr>\n",
       "      <th>2</th>\n",
       "      <td>2018</td>\n",
       "      <td>4</td>\n",
       "      <td>32</td>\n",
       "    </tr>\n",
       "    <tr>\n",
       "      <th>3</th>\n",
       "      <td>2015</td>\n",
       "      <td>12</td>\n",
       "      <td>32</td>\n",
       "    </tr>\n",
       "    <tr>\n",
       "      <th>4</th>\n",
       "      <td>2017</td>\n",
       "      <td>12</td>\n",
       "      <td>32</td>\n",
       "    </tr>\n",
       "    <tr>\n",
       "      <th>...</th>\n",
       "      <td>...</td>\n",
       "      <td>...</td>\n",
       "      <td>...</td>\n",
       "    </tr>\n",
       "    <tr>\n",
       "      <th>995</th>\n",
       "      <td>2002</td>\n",
       "      <td>3</td>\n",
       "      <td>18</td>\n",
       "    </tr>\n",
       "    <tr>\n",
       "      <th>996</th>\n",
       "      <td>2006</td>\n",
       "      <td>2</td>\n",
       "      <td>32</td>\n",
       "    </tr>\n",
       "    <tr>\n",
       "      <th>997</th>\n",
       "      <td>1985</td>\n",
       "      <td>5</td>\n",
       "      <td>27</td>\n",
       "    </tr>\n",
       "    <tr>\n",
       "      <th>998</th>\n",
       "      <td>2008</td>\n",
       "      <td>5</td>\n",
       "      <td>28</td>\n",
       "    </tr>\n",
       "    <tr>\n",
       "      <th>999</th>\n",
       "      <td>2005</td>\n",
       "      <td>5</td>\n",
       "      <td>31</td>\n",
       "    </tr>\n",
       "  </tbody>\n",
       "</table>\n",
       "<p>1000 rows × 3 columns</p>\n",
       "</div>"
      ],
      "text/plain": [
       "     Year  Month  Distributor\n",
       "0    2019      4           32\n",
       "1    2021     12           24\n",
       "2    2018      4           32\n",
       "3    2015     12           32\n",
       "4    2017     12           32\n",
       "..    ...    ...          ...\n",
       "995  2002      3           18\n",
       "996  2006      2           32\n",
       "997  1985      5           27\n",
       "998  2008      5           28\n",
       "999  2005      5           31\n",
       "\n",
       "[1000 rows x 3 columns]"
      ]
     },
     "execution_count": 143,
     "metadata": {},
     "output_type": "execute_result"
    }
   ],
   "source": [
    "pd.options.mode.chained_assignment = None\n",
    "X.Distributor = pd.factorize(X.Distributor, sort=True)[0] + 1\n",
    "X"
   ]
  },
  {
   "cell_type": "markdown",
   "id": "d7724444",
   "metadata": {},
   "source": [
    "Above, the pandas factorize method is used to obtain unique numerical values for each category. Adding 1 ensures the first category is not 0, and flagging sort with True ensures that the categories are labelled alphabetically.\n",
    "\n",
    "Note: I have suppressed the SettingWithCopyWarning for the suspected chained assignment."
   ]
  },
  {
   "cell_type": "code",
   "execution_count": 144,
   "id": "a70b5e30",
   "metadata": {},
   "outputs": [
    {
     "data": {
      "text/html": [
       "<div>\n",
       "<style scoped>\n",
       "    .dataframe tbody tr th:only-of-type {\n",
       "        vertical-align: middle;\n",
       "    }\n",
       "\n",
       "    .dataframe tbody tr th {\n",
       "        vertical-align: top;\n",
       "    }\n",
       "\n",
       "    .dataframe thead th {\n",
       "        text-align: right;\n",
       "    }\n",
       "</style>\n",
       "<table border=\"1\" class=\"dataframe\">\n",
       "  <thead>\n",
       "    <tr style=\"text-align: right;\">\n",
       "      <th></th>\n",
       "      <th>Opening</th>\n",
       "    </tr>\n",
       "  </thead>\n",
       "  <tbody>\n",
       "    <tr>\n",
       "      <th>0</th>\n",
       "      <td>357115007</td>\n",
       "    </tr>\n",
       "    <tr>\n",
       "      <th>1</th>\n",
       "      <td>260138569</td>\n",
       "    </tr>\n",
       "    <tr>\n",
       "      <th>2</th>\n",
       "      <td>257698183</td>\n",
       "    </tr>\n",
       "    <tr>\n",
       "      <th>3</th>\n",
       "      <td>247966675</td>\n",
       "    </tr>\n",
       "    <tr>\n",
       "      <th>4</th>\n",
       "      <td>220009584</td>\n",
       "    </tr>\n",
       "    <tr>\n",
       "      <th>...</th>\n",
       "      <td>...</td>\n",
       "    </tr>\n",
       "    <tr>\n",
       "      <th>995</th>\n",
       "      <td>20212543</td>\n",
       "    </tr>\n",
       "    <tr>\n",
       "      <th>996</th>\n",
       "      <td>20188176</td>\n",
       "    </tr>\n",
       "    <tr>\n",
       "      <th>997</th>\n",
       "      <td>20176217</td>\n",
       "    </tr>\n",
       "    <tr>\n",
       "      <th>998</th>\n",
       "      <td>20172474</td>\n",
       "    </tr>\n",
       "    <tr>\n",
       "      <th>999</th>\n",
       "      <td>20159925</td>\n",
       "    </tr>\n",
       "  </tbody>\n",
       "</table>\n",
       "<p>1000 rows × 1 columns</p>\n",
       "</div>"
      ],
      "text/plain": [
       "       Opening\n",
       "0    357115007\n",
       "1    260138569\n",
       "2    257698183\n",
       "3    247966675\n",
       "4    220009584\n",
       "..         ...\n",
       "995   20212543\n",
       "996   20188176\n",
       "997   20176217\n",
       "998   20172474\n",
       "999   20159925\n",
       "\n",
       "[1000 rows x 1 columns]"
      ]
     },
     "execution_count": 144,
     "metadata": {},
     "output_type": "execute_result"
    }
   ],
   "source": [
    "y = df[['Opening']]\n",
    "y"
   ]
  },
  {
   "cell_type": "markdown",
   "id": "c8f2b5d0",
   "metadata": {},
   "source": [
    "### Try polynomial regression"
   ]
  },
  {
   "cell_type": "code",
   "execution_count": 193,
   "id": "122b2b28",
   "metadata": {},
   "outputs": [],
   "source": [
    "from sklearn.preprocessing import PolynomialFeatures\n",
    "polyReg = PolynomialFeatures(degree = 3)\n",
    "polyFeatures = polyReg.fit_transform(X)"
   ]
  },
  {
   "cell_type": "code",
   "execution_count": 194,
   "id": "7e0fef05",
   "metadata": {},
   "outputs": [],
   "source": [
    "from sklearn.model_selection import train_test_split\n",
    "X_train, X_test, y_train, y_test = train_test_split(polyFeatures, y, test_size = 0.2, random_state = 42)"
   ]
  },
  {
   "cell_type": "code",
   "execution_count": 195,
   "id": "cb49f95b",
   "metadata": {},
   "outputs": [
    {
     "data": {
      "text/plain": [
       "LinearRegression()"
      ]
     },
     "execution_count": 195,
     "metadata": {},
     "output_type": "execute_result"
    }
   ],
   "source": [
    "from sklearn.linear_model import LinearRegression\n",
    "polyRegModel = LinearRegression()\n",
    "polyRegModel.fit(X_train, y_train)"
   ]
  },
  {
   "cell_type": "code",
   "execution_count": 196,
   "id": "51c2db8f",
   "metadata": {},
   "outputs": [],
   "source": [
    "yPred = polyRegModel.predict(X_test)"
   ]
  },
  {
   "cell_type": "code",
   "execution_count": 197,
   "id": "12e566e9",
   "metadata": {},
   "outputs": [
    {
     "data": {
      "text/plain": [
       "26777230.68896793"
      ]
     },
     "execution_count": 197,
     "metadata": {},
     "output_type": "execute_result"
    }
   ],
   "source": [
    "from sklearn.metrics import mean_squared_error\n",
    "polyReg_RMSE = np.sqrt(mean_squared_error(y_test, yPred))\n",
    "polyReg_RMSE"
   ]
  },
  {
   "cell_type": "code",
   "execution_count": null,
   "id": "83c76760",
   "metadata": {},
   "outputs": [],
   "source": []
  }
 ],
 "metadata": {
  "kernelspec": {
   "display_name": "Python 3 (ipykernel)",
   "language": "python",
   "name": "python3"
  },
  "language_info": {
   "codemirror_mode": {
    "name": "ipython",
    "version": 3
   },
   "file_extension": ".py",
   "mimetype": "text/x-python",
   "name": "python",
   "nbconvert_exporter": "python",
   "pygments_lexer": "ipython3",
   "version": "3.9.7"
  }
 },
 "nbformat": 4,
 "nbformat_minor": 5
}
